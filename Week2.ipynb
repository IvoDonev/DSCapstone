{
 "cells": [
  {
   "cell_type": "markdown",
   "metadata": {},
   "source": [
    "# Week 2 - Defining a building\n",
    "\n",
    "In order to define buildings from our Detroit data I looked at other available data sources in the https://data.detroitmi.gov/ site. In particular I consider the parcel map dataset (https://data.detroitmi.gov/Property-Parcels/Parcel-Map/fxkw-udwf) and the neighborhoods dataset (https://data.detroitmi.gov/Government/Detroit-Neighborhoods/5mn6-ihjv). I downloaded both these datasets as geojson files. \n",
    "\n",
    "The first files provides spatial information (a multipolygon) for each property in the city. With this dataset I can reverse search any point (latitude longitude pair) to see which polygon (i.e. parcel it falls in). With the second dataset I can similarly reverse search to see which neighborhood any point or building falls in. This may make things easier to visualize on a neighborhood level.   "
   ]
  },
  {
   "cell_type": "markdown",
   "metadata": {},
   "source": [
    "## Tools\n",
    "\n",
    "Reverse searching the large dataset (318000 parcels) is no easy feat, so I utilitized the geospatial query capabilities of MongoDB (https://www.mongodb.com/). I ran a local instance of this db and loaded both geojson files as two seperate collections (DetroitParcels and DetroitAreas). This required some fiddling with geojson file to make it so that each parcel is on a seperate line. I loaded the parcels and areas through a small python script, talking to the MongoDB using pyMongo library. I then generated a geospatial index on the collection to make lookups fast.\n",
    "\n",
    "## Querying Buildings\n",
    "\n",
    "\n",
    "\n",
    "## Visualisation\n",
    "\n",
    "\n"
   ]
  },
  {
   "cell_type": "code",
   "execution_count": null,
   "metadata": {
    "collapsed": true
   },
   "outputs": [],
   "source": []
  }
 ],
 "metadata": {
  "kernelspec": {
   "display_name": "Python 3",
   "language": "python",
   "name": "python3"
  },
  "language_info": {
   "codemirror_mode": {
    "name": "ipython",
    "version": 3
   },
   "file_extension": ".py",
   "mimetype": "text/x-python",
   "name": "python",
   "nbconvert_exporter": "python",
   "pygments_lexer": "ipython3",
   "version": "3.4.5"
  }
 },
 "nbformat": 4,
 "nbformat_minor": 2
}
