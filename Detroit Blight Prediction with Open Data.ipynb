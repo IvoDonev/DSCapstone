{
 "cells": [
  {
   "cell_type": "markdown",
   "metadata": {},
   "source": [
    "# Detroit Blight Prediction with Open Data\n",
    "\n",
    "## An interactive version of this report is available at\n",
    "\n",
    "<https://ivodonev.github.io/DSCapstone/Detroit%20Blight%20Prediction%20with%20Open%20Data.html>\n",
    "\n",
    "## Overview\n",
    "\n",
    "Property blight, its spread and its affects on neighborhoods, people and the local economy is a major issue which affects many cities today. Detroit is a city where this has been very widespread and severe. From the literature attempts to predict the spread of blight from variables such crime, abandoned buildings, presence of amenities such as water and electricity, and taxes in arrears.\n",
    "\n",
    "In this project we will attempt to use openly available data for blight violation, crime incidents and 311 calls to train a supervised machine learning model to predict blight spread. We additionally have a demolition dataset which lists addresses which have been condemned. We will use this dataset to act as the \"IsBlighted\" variable for a building. This will be used to train our model and check our accuracy. We found 5174 buildings which were definitely blighted. We took 5174 non blighted buildings too and together this is our training/test dataset.\n",
    "\n",
    "### Reproducibility\n",
    "\n",
    "All the scripts and produced results for this project are available at <https://github.com/IvoDonev/DSCapstone> The original datasets are available at <https://github.com/uwescience/datasci_course_materials/tree/master/capstone/blight>. In the github repo there is also an anacondaEnv.yml file to create the environment needed to execute these scripts.\n",
    "\n",
    "\n",
    "## Building definitions\n",
    "\n",
    "The data in these open data sets need to be linked to buildings in order to be able to cross reference items.\n",
    "\n",
    "In order to define buildings from our Detroit data I looked at other available data sources in the https://data.detroitmi.gov/ site. In particular I consider the parcel map dataset (https://data.detroitmi.gov/Property-Parcels/Parcel-Map/fxkw-udwf) and the neighborhoods dataset (https://data.detroitmi.gov/Government/Detroit-Neighborhoods/5mn6-ihjv). I downloaded both these datasets as geojson files from the links provided.\n",
    "The first files provides spatial information (a multipolygon) for each property in the city. With this dataset I can reverse search any point (latitude longitude pair) to see which polygon (i.e. parcel it falls in). With the second dataset I can similarly reverse search to see which neighborhood any point or building falls in. This may make things easier to visualize on a neighborhood level and to be able to group buildings within neighborhoods. In the case where a point does not fall within any parcel (e.g. on the street outside) I picked the nearest polygon. \n",
    "\n",
    "Reverse searching the large dataset (318000 parcels) is no easy feat, so I utilized the geospatial query capabilities of MongoDB (https://www.mongodb.com/). I ran a local instance of this db and loaded both geojson files as two separate collections (DetroitParcels and DetroitAreas). This required some fiddling with geojson file to make it so that each parcel is on a separate line. I loaded the parcels and areas through a small python script, talking to the MongoDB using pyMongo library. I then generated a geospatial index on the collection to make lookups faster. The query function can is available on my github https://github.com/IvoDonev/DSCapstone/blob/master/QueryBuildings.py\n",
    "\n",
    "## Variables\n",
    "\n",
    "The following variables were considered for our model:\n",
    "1. Number of crime incidents associated with a building\n",
    "1. Number of blight violations incidents associated with a building\n",
    "1. Number of 311 calls\n",
    "1. Whether the building is state owned. This was determined by checking the \"owner1\" property for each building in the parcel dataset and comparing to 'DETROIT LAND BANK AUTHORITY'\n",
    "1. The zoning category for the building. This was determined form the \"zoning\" property for each parcel\n",
    "1. Which neighborhood each building is in. This was done by getting the centroid of each parcel and performing a reverse lookup on the neighborhoods dataset.\n",
    "\n",
    "## Secondary Variables\n",
    "\n",
    "Additionally, we consider the affects of the surrounding building's variables on each building also. Such an approach was suggested in the paper by Morckel. To achieve this we consider the 100 nearest parcels within a 1km radius. We then perform a weighted average of the number of crime incidents, number of blight violations, number of 311 calls using the following weight function:\n",
    "\n",
    "$e^{-\\dfrac{distance}{500}}$\n",
    "\n",
    "## Visualising the variables\n",
    "\n",
    "Below is a choropleth visualisation of the number of violation incidents and crime incidents as grouped per neighborhood in Detroit. Form this visualisation you can easily see any troubled areas. It can also be seen that there are a large number incidents for Downtown Detroit. This area is a non residential and perhaps the overwhelming number of incidents in these areas is due to it being a default rather than reality. Additionally the areas of Warrendale and MidWest have high number of blight violations. \n",
    "\n",
    "Considering only blight violations the western areas have many more incidents. Considering 311 and crime numbers the areas are much more varied although in all three categories Warrendale has very high numbers. For 311 and crime the area of Claytown has very high numbers."
   ]
  },
  {
   "cell_type": "code",
   "execution_count": 1,
   "metadata": {
    "collapsed": false
   },
   "outputs": [],
   "source": [
    "import geopandas as gpd\n",
    "import folium\n",
    "import pandas as pd"
   ]
  },
  {
   "cell_type": "code",
   "execution_count": 2,
   "metadata": {
    "collapsed": false
   },
   "outputs": [],
   "source": [
    "def AddLayer(filePath, layerName, legendName, showInitially, foliumMap, valueField=\"count\"):\n",
    "    \n",
    "    df = pd.read_csv(filePath)\n",
    "    df['_id'] = df['_id'].astype(str)\n",
    "\n",
    "    layer = folium.Choropleth(geo_data='data/Detroit Neighborhoods.geojson', \n",
    "                      data=df,\n",
    "                      columns=['_id', valueField],\n",
    "                      key_on='feature.properties.target_fid', \n",
    "                      nan_fill_color='White',\n",
    "                      fill_color='YlOrRd', \n",
    "                      fill_opacity=0.9,\n",
    "                      line_opacity=0.2,\n",
    "                      highlight=False,\n",
    "                      legend_name=legendName).add_to(foliumMap)\n",
    "    layer.show = showInitially\n",
    "\n",
    "    layer.layer_name=layerName\n",
    "    \n",
    "def AddAreasOverlay(map):\n",
    "    styleFunction = lambda x: {'fillColor': '#0000ff', 'fillOpacity':0, 'weight':1}\n",
    "\n",
    "    areas = folium.GeoJson(\n",
    "        \"data/Detroit Neighborhoods.geojson\",\n",
    "        name='Areas',\n",
    "        control=False,\n",
    "        style_function=styleFunction,\n",
    "        tooltip=folium.features.GeoJsonTooltip(fields=[\"new_nhood\"], labels=False)\n",
    "    ).add_to(map)\n",
    "    map.keep_in_front(areas)\n",
    "\n",
    "variablesMap = folium.Map([42.379858, -83.066083], zoom_start = 11)\n",
    "AddLayer(\"data/ViolationsPerArea.csv\", \"Blight Violations Per Area\", \"Number of blight violations\", True, variablesMap)\n",
    "AddLayer(\"data/CrimePerArea.csv\", \"Crime Per Area\", \"Number of crime incidents\", False, variablesMap)\n",
    "AddLayer(\"data/311PerArea.csv\", \"311 Per Area\", \"Number of 311 incidents\", False, variablesMap)\n",
    "AddAreasOverlay(variablesMap)\n",
    "\n",
    "# This map timesout the Jupyter notebook so we save to a file and then load it again.\n",
    "folium.LayerControl(collapsed=False).add_to(variablesMap)\n",
    "\n",
    "variablesMap.save(\"data/VariablesMap.html\")"
   ]
  },
  {
   "cell_type": "code",
   "execution_count": 3,
   "metadata": {
    "collapsed": false
   },
   "outputs": [
    {
     "data": {
      "text/html": [
       "<iframe src=\"data/VariablesMap.html\" width=100% height=600></iframe>"
      ],
      "text/plain": [
       "<IPython.core.display.HTML object>"
      ]
     },
     "metadata": {},
     "output_type": "display_data"
    }
   ],
   "source": [
    "%%HTML\n",
    "<iframe src=\"data/VariablesMap.html\" width=100% height=600></iframe>"
   ]
  },
  {
   "cell_type": "markdown",
   "metadata": {},
   "source": [
    "## Visualising the demolition\n",
    "\n",
    "Below we show a heat map of each demolition order in Detroit. This visualisation can quickly show us problem areas and allows us to drill down into areas for a more detailed view. \n",
    "\n",
    "From this we can see that Downtown detroit actually has very few demolition orders. They seem relatively spread out throughout the city with the areas of Warrendale (in the west) and Mappleridge, Franklin and Gratiot-Findlay (in the north east). \n"
   ]
  },
  {
   "cell_type": "code",
   "execution_count": 4,
   "metadata": {
    "collapsed": false
   },
   "outputs": [],
   "source": [
    "from folium import plugins\n",
    "from folium.plugins import HeatMap\n",
    "\n",
    "demoHeatmap = folium.Map([42.379858, -83.066083], zoom_start = 11)\n",
    "\n",
    "demoParcels = pd.read_csv(\"data/DemolishedParcels.csv\")\n",
    "\n",
    "heat_data = [[row['lat'],row['lon']] for index, row in demoParcels.iterrows()]\n",
    "HeatMap(heat_data, radius=9, max_zoom=15).add_to(demoHeatmap)\n",
    "AddAreasOverlay(demoHeatmap)\n",
    "\n",
    "demoHeatmap.save(\"data/DemoHeatMap.html\")"
   ]
  },
  {
   "cell_type": "code",
   "execution_count": 5,
   "metadata": {
    "collapsed": false
   },
   "outputs": [
    {
     "data": {
      "text/html": [
       "<iframe src=\"data/DemoHeatMap.html\" width=100% height=600></iframe>"
      ],
      "text/plain": [
       "<IPython.core.display.HTML object>"
      ]
     },
     "metadata": {},
     "output_type": "display_data"
    }
   ],
   "source": [
    "%%HTML\n",
    "<iframe src=\"data/DemoHeatMap.html\" width=100% height=600></iframe>"
   ]
  },
  {
   "cell_type": "markdown",
   "metadata": {},
   "source": [
    "\n",
    "## Model\n",
    "\n",
    "I built a classifier using a python's Scikit-learn library and the Random Forest classifier. Is used a RandomizedSearchCV to perform a hyperparameter tuning on the model. I took all the 10000 records (5000 demolished and 5000 non) and performed a 5 fold cross validation fit. With that I found my model has an accuracy of \n"
   ]
  },
  {
   "cell_type": "code",
   "execution_count": 6,
   "metadata": {
    "collapsed": false
   },
   "outputs": [
    {
     "name": "stdout",
     "output_type": "stream",
     "text": [
      "Model\n",
      "Mean validation score: 0.774 (std: 0.010)\n",
      "Parameters: {'min_samples_split': 10, 'max_features': 5, 'max_depth': 6, 'bootstrap': False, 'criterion': 'gini'}\n",
      "\n"
     ]
    }
   ],
   "source": [
    "with open('Data/ModelAccuracy.txt', 'r') as myfile:\n",
    "    print(myfile.read())"
   ]
  },
  {
   "cell_type": "markdown",
   "metadata": {
    "collapsed": true
   },
   "source": [
    "From the model we can determine which features/variables were most important. Below these are presented as a bar chart with the highest importance on top. It can be seen that the number of violations for a parcel was the most important variable, followed by whether it is state owned and then the secondary number of crimes (weighed average of the neighboring parcels)."
   ]
  },
  {
   "cell_type": "code",
   "execution_count": 7,
   "metadata": {
    "collapsed": false
   },
   "outputs": [
    {
     "data": {
      "text/html": [
       "\n",
       "    <div class=\"bk-root\">\n",
       "        <a href=\"http://bokeh.pydata.org\" target=\"_blank\" class=\"bk-logo bk-logo-small bk-logo-notebook\"></a>\n",
       "        <span id=\"bc84b548-8367-4001-9d28-df49c3005f7b\">Loading BokehJS ...</span>\n",
       "    </div>"
      ]
     },
     "metadata": {},
     "output_type": "display_data"
    },
    {
     "data": {
      "application/javascript": [
       "\n",
       "(function(global) {\n",
       "  function now() {\n",
       "    return new Date();\n",
       "  }\n",
       "\n",
       "  var force = true;\n",
       "\n",
       "  if (typeof (window._bokeh_onload_callbacks) === \"undefined\" || force === true) {\n",
       "    window._bokeh_onload_callbacks = [];\n",
       "    window._bokeh_is_loading = undefined;\n",
       "  }\n",
       "\n",
       "\n",
       "  \n",
       "  if (typeof (window._bokeh_timeout) === \"undefined\" || force === true) {\n",
       "    window._bokeh_timeout = Date.now() + 5000;\n",
       "    window._bokeh_failed_load = false;\n",
       "  }\n",
       "\n",
       "  var NB_LOAD_WARNING = {'data': {'text/html':\n",
       "     \"<div style='background-color: #fdd'>\\n\"+\n",
       "     \"<p>\\n\"+\n",
       "     \"BokehJS does not appear to have successfully loaded. If loading BokehJS from CDN, this \\n\"+\n",
       "     \"may be due to a slow or bad network connection. Possible fixes:\\n\"+\n",
       "     \"</p>\\n\"+\n",
       "     \"<ul>\\n\"+\n",
       "     \"<li>re-rerun `output_notebook()` to attempt to load from CDN again, or</li>\\n\"+\n",
       "     \"<li>use INLINE resources instead, as so:</li>\\n\"+\n",
       "     \"</ul>\\n\"+\n",
       "     \"<code>\\n\"+\n",
       "     \"from bokeh.resources import INLINE\\n\"+\n",
       "     \"output_notebook(resources=INLINE)\\n\"+\n",
       "     \"</code>\\n\"+\n",
       "     \"</div>\"}};\n",
       "\n",
       "  function display_loaded() {\n",
       "    if (window.Bokeh !== undefined) {\n",
       "      document.getElementById(\"bc84b548-8367-4001-9d28-df49c3005f7b\").textContent = \"BokehJS successfully loaded.\";\n",
       "    } else if (Date.now() < window._bokeh_timeout) {\n",
       "      setTimeout(display_loaded, 100)\n",
       "    }\n",
       "  }\n",
       "\n",
       "  function run_callbacks() {\n",
       "    window._bokeh_onload_callbacks.forEach(function(callback) { callback() });\n",
       "    delete window._bokeh_onload_callbacks\n",
       "    console.info(\"Bokeh: all callbacks have finished\");\n",
       "  }\n",
       "\n",
       "  function load_libs(js_urls, callback) {\n",
       "    window._bokeh_onload_callbacks.push(callback);\n",
       "    if (window._bokeh_is_loading > 0) {\n",
       "      console.log(\"Bokeh: BokehJS is being loaded, scheduling callback at\", now());\n",
       "      return null;\n",
       "    }\n",
       "    if (js_urls == null || js_urls.length === 0) {\n",
       "      run_callbacks();\n",
       "      return null;\n",
       "    }\n",
       "    console.log(\"Bokeh: BokehJS not loaded, scheduling load and callback at\", now());\n",
       "    window._bokeh_is_loading = js_urls.length;\n",
       "    for (var i = 0; i < js_urls.length; i++) {\n",
       "      var url = js_urls[i];\n",
       "      var s = document.createElement('script');\n",
       "      s.src = url;\n",
       "      s.async = false;\n",
       "      s.onreadystatechange = s.onload = function() {\n",
       "        window._bokeh_is_loading--;\n",
       "        if (window._bokeh_is_loading === 0) {\n",
       "          console.log(\"Bokeh: all BokehJS libraries loaded\");\n",
       "          run_callbacks()\n",
       "        }\n",
       "      };\n",
       "      s.onerror = function() {\n",
       "        console.warn(\"failed to load library \" + url);\n",
       "      };\n",
       "      console.log(\"Bokeh: injecting script tag for BokehJS library: \", url);\n",
       "      document.getElementsByTagName(\"head\")[0].appendChild(s);\n",
       "    }\n",
       "  };var element = document.getElementById(\"bc84b548-8367-4001-9d28-df49c3005f7b\");\n",
       "  if (element == null) {\n",
       "    console.log(\"Bokeh: ERROR: autoload.js configured with elementid 'bc84b548-8367-4001-9d28-df49c3005f7b' but no matching script tag was found. \")\n",
       "    return false;\n",
       "  }\n",
       "\n",
       "  var js_urls = [\"https://cdn.pydata.org/bokeh/release/bokeh-0.12.4.min.js\", \"https://cdn.pydata.org/bokeh/release/bokeh-widgets-0.12.4.min.js\"];\n",
       "\n",
       "  var inline_js = [\n",
       "    function(Bokeh) {\n",
       "      Bokeh.set_log_level(\"info\");\n",
       "    },\n",
       "    \n",
       "    function(Bokeh) {\n",
       "      \n",
       "      document.getElementById(\"bc84b548-8367-4001-9d28-df49c3005f7b\").textContent = \"BokehJS is loading...\";\n",
       "\n",
       "    },\n",
       "    function(Bokeh) {\n",
       "      console.log(\"Bokeh: injecting CSS: https://cdn.pydata.org/bokeh/release/bokeh-0.12.4.min.css\");\n",
       "      Bokeh.embed.inject_css(\"https://cdn.pydata.org/bokeh/release/bokeh-0.12.4.min.css\");\n",
       "      console.log(\"Bokeh: injecting CSS: https://cdn.pydata.org/bokeh/release/bokeh-widgets-0.12.4.min.css\");\n",
       "      Bokeh.embed.inject_css(\"https://cdn.pydata.org/bokeh/release/bokeh-widgets-0.12.4.min.css\");\n",
       "    }\n",
       "  ];\n",
       "\n",
       "  function run_inline_js() {\n",
       "    \n",
       "    if ((window.Bokeh !== undefined) || (force === true)) {\n",
       "      for (var i = 0; i < inline_js.length; i++) {\n",
       "        inline_js[i](window.Bokeh);\n",
       "      }if (force === true) {\n",
       "        display_loaded();\n",
       "      }} else if (Date.now() < window._bokeh_timeout) {\n",
       "      setTimeout(run_inline_js, 100);\n",
       "    } else if (!window._bokeh_failed_load) {\n",
       "      console.log(\"Bokeh: BokehJS failed to load within specified timeout.\");\n",
       "      window._bokeh_failed_load = true;\n",
       "    } else if (force !== true) {\n",
       "      var cell = $(document.getElementById(\"bc84b548-8367-4001-9d28-df49c3005f7b\")).parents('.cell').data().cell;\n",
       "      cell.output_area.append_execute_result(NB_LOAD_WARNING)\n",
       "    }\n",
       "\n",
       "  }\n",
       "\n",
       "  if (window._bokeh_is_loading === 0) {\n",
       "    console.log(\"Bokeh: BokehJS loaded, going straight to plotting\");\n",
       "    run_inline_js();\n",
       "  } else {\n",
       "    load_libs(js_urls, function() {\n",
       "      console.log(\"Bokeh: BokehJS plotting callback run at\", now());\n",
       "      run_inline_js();\n",
       "    });\n",
       "  }\n",
       "}(this));"
      ]
     },
     "metadata": {},
     "output_type": "display_data"
    },
    {
     "data": {
      "text/html": [
       "\n",
       "\n",
       "    <div class=\"bk-root\">\n",
       "        <div class=\"bk-plotdiv\" id=\"2262ccb5-8fd5-4dd9-9b83-dd9e961c620c\"></div>\n",
       "    </div>\n",
       "<script type=\"text/javascript\">\n",
       "  \n",
       "  (function(global) {\n",
       "    function now() {\n",
       "      return new Date();\n",
       "    }\n",
       "\n",
       "    var force = false;\n",
       "\n",
       "    if (typeof (window._bokeh_onload_callbacks) === \"undefined\" || force === true) {\n",
       "      window._bokeh_onload_callbacks = [];\n",
       "      window._bokeh_is_loading = undefined;\n",
       "    }\n",
       "\n",
       "\n",
       "    \n",
       "    if (typeof (window._bokeh_timeout) === \"undefined\" || force === true) {\n",
       "      window._bokeh_timeout = Date.now() + 0;\n",
       "      window._bokeh_failed_load = false;\n",
       "    }\n",
       "\n",
       "    var NB_LOAD_WARNING = {'data': {'text/html':\n",
       "       \"<div style='background-color: #fdd'>\\n\"+\n",
       "       \"<p>\\n\"+\n",
       "       \"BokehJS does not appear to have successfully loaded. If loading BokehJS from CDN, this \\n\"+\n",
       "       \"may be due to a slow or bad network connection. Possible fixes:\\n\"+\n",
       "       \"</p>\\n\"+\n",
       "       \"<ul>\\n\"+\n",
       "       \"<li>re-rerun `output_notebook()` to attempt to load from CDN again, or</li>\\n\"+\n",
       "       \"<li>use INLINE resources instead, as so:</li>\\n\"+\n",
       "       \"</ul>\\n\"+\n",
       "       \"<code>\\n\"+\n",
       "       \"from bokeh.resources import INLINE\\n\"+\n",
       "       \"output_notebook(resources=INLINE)\\n\"+\n",
       "       \"</code>\\n\"+\n",
       "       \"</div>\"}};\n",
       "\n",
       "    function display_loaded() {\n",
       "      if (window.Bokeh !== undefined) {\n",
       "        document.getElementById(\"2262ccb5-8fd5-4dd9-9b83-dd9e961c620c\").textContent = \"BokehJS successfully loaded.\";\n",
       "      } else if (Date.now() < window._bokeh_timeout) {\n",
       "        setTimeout(display_loaded, 100)\n",
       "      }\n",
       "    }\n",
       "\n",
       "    function run_callbacks() {\n",
       "      window._bokeh_onload_callbacks.forEach(function(callback) { callback() });\n",
       "      delete window._bokeh_onload_callbacks\n",
       "      console.info(\"Bokeh: all callbacks have finished\");\n",
       "    }\n",
       "\n",
       "    function load_libs(js_urls, callback) {\n",
       "      window._bokeh_onload_callbacks.push(callback);\n",
       "      if (window._bokeh_is_loading > 0) {\n",
       "        console.log(\"Bokeh: BokehJS is being loaded, scheduling callback at\", now());\n",
       "        return null;\n",
       "      }\n",
       "      if (js_urls == null || js_urls.length === 0) {\n",
       "        run_callbacks();\n",
       "        return null;\n",
       "      }\n",
       "      console.log(\"Bokeh: BokehJS not loaded, scheduling load and callback at\", now());\n",
       "      window._bokeh_is_loading = js_urls.length;\n",
       "      for (var i = 0; i < js_urls.length; i++) {\n",
       "        var url = js_urls[i];\n",
       "        var s = document.createElement('script');\n",
       "        s.src = url;\n",
       "        s.async = false;\n",
       "        s.onreadystatechange = s.onload = function() {\n",
       "          window._bokeh_is_loading--;\n",
       "          if (window._bokeh_is_loading === 0) {\n",
       "            console.log(\"Bokeh: all BokehJS libraries loaded\");\n",
       "            run_callbacks()\n",
       "          }\n",
       "        };\n",
       "        s.onerror = function() {\n",
       "          console.warn(\"failed to load library \" + url);\n",
       "        };\n",
       "        console.log(\"Bokeh: injecting script tag for BokehJS library: \", url);\n",
       "        document.getElementsByTagName(\"head\")[0].appendChild(s);\n",
       "      }\n",
       "    };var element = document.getElementById(\"2262ccb5-8fd5-4dd9-9b83-dd9e961c620c\");\n",
       "    if (element == null) {\n",
       "      console.log(\"Bokeh: ERROR: autoload.js configured with elementid '2262ccb5-8fd5-4dd9-9b83-dd9e961c620c' but no matching script tag was found. \")\n",
       "      return false;\n",
       "    }\n",
       "\n",
       "    var js_urls = [];\n",
       "\n",
       "    var inline_js = [\n",
       "      function(Bokeh) {\n",
       "        (function() {\n",
       "          var fn = function() {\n",
       "            var docs_json = {\"02f0dd7b-a8b2-4c5b-8012-5ecbdcb06201\":{\"roots\":{\"references\":[{\"attributes\":{},\"id\":\"ceb64071-8d1e-4605-95f5-b02179d27222\",\"type\":\"CategoricalTickFormatter\"},{\"attributes\":{\"plot\":{\"id\":\"68391ba4-b784-4974-809c-be99c768cd34\",\"subtype\":\"Figure\",\"type\":\"Plot\"}},\"id\":\"b3f79b24-b47f-4b95-9926-cdd8d26e4828\",\"type\":\"PanTool\"},{\"attributes\":{\"plot\":{\"id\":\"68391ba4-b784-4974-809c-be99c768cd34\",\"subtype\":\"Figure\",\"type\":\"Plot\"}},\"id\":\"995da826-2745-41a6-8703-bb2ef82df425\",\"type\":\"SaveTool\"},{\"attributes\":{\"plot\":{\"id\":\"68391ba4-b784-4974-809c-be99c768cd34\",\"subtype\":\"Figure\",\"type\":\"Plot\"}},\"id\":\"84ffa61d-0807-4a7d-aa6e-d4a3f0726276\",\"type\":\"WheelZoomTool\"},{\"attributes\":{\"overlay\":{\"id\":\"d44a2625-2de1-4466-b24a-42467c8b0e25\",\"type\":\"BoxAnnotation\"},\"plot\":{\"id\":\"68391ba4-b784-4974-809c-be99c768cd34\",\"subtype\":\"Figure\",\"type\":\"Plot\"}},\"id\":\"5c92a934-572c-4295-839b-82fdfb2ab5b0\",\"type\":\"BoxZoomTool\"},{\"attributes\":{\"bottom_units\":\"screen\",\"fill_alpha\":{\"value\":0.5},\"fill_color\":{\"value\":\"lightgrey\"},\"left_units\":\"screen\",\"level\":\"overlay\",\"line_alpha\":{\"value\":1.0},\"line_color\":{\"value\":\"black\"},\"line_dash\":[4,4],\"line_width\":{\"value\":2},\"plot\":null,\"render_mode\":\"css\",\"right_units\":\"screen\",\"top_units\":\"screen\"},\"id\":\"d44a2625-2de1-4466-b24a-42467c8b0e25\",\"type\":\"BoxAnnotation\"},{\"attributes\":{\"fill_alpha\":{\"value\":0.1},\"fill_color\":{\"value\":\"#1f77b4\"},\"height\":{\"value\":0.8},\"line_alpha\":{\"value\":0.1},\"line_color\":{\"value\":\"#1f77b4\"},\"right\":{\"field\":\"importance\"},\"y\":{\"field\":\"variable\"}},\"id\":\"4a492bf4-ae15-4d25-a400-757f76fa7c7f\",\"type\":\"HBar\"},{\"attributes\":{\"callback\":null},\"id\":\"a951dc72-21f8-4044-a582-4de810fb3b98\",\"type\":\"DataRange1d\"},{\"attributes\":{\"data_source\":{\"id\":\"90bb0247-7c82-4ae2-bfcc-48ee76908d71\",\"type\":\"ColumnDataSource\"},\"glyph\":{\"id\":\"be3263e8-271f-460c-9a5f-bd61bd9a0b83\",\"type\":\"HBar\"},\"hover_glyph\":null,\"nonselection_glyph\":{\"id\":\"4a492bf4-ae15-4d25-a400-757f76fa7c7f\",\"type\":\"HBar\"},\"selection_glyph\":null},\"id\":\"163760a7-ec4b-45b5-afbe-2a2b97257697\",\"type\":\"GlyphRenderer\"},{\"attributes\":{\"formatter\":{\"id\":\"ceb64071-8d1e-4605-95f5-b02179d27222\",\"type\":\"CategoricalTickFormatter\"},\"plot\":{\"id\":\"68391ba4-b784-4974-809c-be99c768cd34\",\"subtype\":\"Figure\",\"type\":\"Plot\"},\"ticker\":{\"id\":\"73dbe8d0-2745-4fe2-b421-a4a6fae87fe0\",\"type\":\"CategoricalTicker\"}},\"id\":\"62200d16-d02c-4e5e-87d2-8f7036b3a97e\",\"type\":\"CategoricalAxis\"},{\"attributes\":{\"below\":[{\"id\":\"1e78f28c-18a5-405c-a542-576d217c554d\",\"type\":\"LinearAxis\"}],\"left\":[{\"id\":\"62200d16-d02c-4e5e-87d2-8f7036b3a97e\",\"type\":\"CategoricalAxis\"}],\"renderers\":[{\"id\":\"1e78f28c-18a5-405c-a542-576d217c554d\",\"type\":\"LinearAxis\"},{\"id\":\"c12706e2-a243-40f3-ad91-228432386b09\",\"type\":\"Grid\"},{\"id\":\"62200d16-d02c-4e5e-87d2-8f7036b3a97e\",\"type\":\"CategoricalAxis\"},{\"id\":\"89101a20-0bcb-43b0-923a-033930a94acb\",\"type\":\"Grid\"},{\"id\":\"d44a2625-2de1-4466-b24a-42467c8b0e25\",\"type\":\"BoxAnnotation\"},{\"id\":\"163760a7-ec4b-45b5-afbe-2a2b97257697\",\"type\":\"GlyphRenderer\"}],\"title\":{\"id\":\"7c435045-eb75-4687-8dc7-760f846bda01\",\"type\":\"Title\"},\"tool_events\":{\"id\":\"51d774d9-eeab-434c-9abf-a9977b42ce0a\",\"type\":\"ToolEvents\"},\"toolbar\":{\"id\":\"0e57bca1-972c-4007-bc46-af8c6190c1c5\",\"type\":\"Toolbar\"},\"x_range\":{\"id\":\"a951dc72-21f8-4044-a582-4de810fb3b98\",\"type\":\"DataRange1d\"},\"y_range\":{\"id\":\"6624edea-6547-4568-8fab-39f3a2d9d9db\",\"type\":\"FactorRange\"}},\"id\":\"68391ba4-b784-4974-809c-be99c768cd34\",\"subtype\":\"Figure\",\"type\":\"Plot\"},{\"attributes\":{},\"id\":\"51d774d9-eeab-434c-9abf-a9977b42ce0a\",\"type\":\"ToolEvents\"},{\"attributes\":{\"dimension\":1,\"plot\":{\"id\":\"68391ba4-b784-4974-809c-be99c768cd34\",\"subtype\":\"Figure\",\"type\":\"Plot\"},\"ticker\":{\"id\":\"73dbe8d0-2745-4fe2-b421-a4a6fae87fe0\",\"type\":\"CategoricalTicker\"}},\"id\":\"89101a20-0bcb-43b0-923a-033930a94acb\",\"type\":\"Grid\"},{\"attributes\":{\"plot\":null,\"text\":\"Importance of different variables for evaluating random forest classifier\"},\"id\":\"7c435045-eb75-4687-8dc7-760f846bda01\",\"type\":\"Title\"},{\"attributes\":{\"axis_label\":\"Importance of variable\",\"formatter\":{\"id\":\"515f18cb-a612-4501-89dc-387516fca9f2\",\"type\":\"BasicTickFormatter\"},\"plot\":{\"id\":\"68391ba4-b784-4974-809c-be99c768cd34\",\"subtype\":\"Figure\",\"type\":\"Plot\"},\"ticker\":{\"id\":\"a2819cee-342d-4a5b-b0c4-3f8213019816\",\"type\":\"BasicTicker\"}},\"id\":\"1e78f28c-18a5-405c-a542-576d217c554d\",\"type\":\"LinearAxis\"},{\"attributes\":{},\"id\":\"a2819cee-342d-4a5b-b0c4-3f8213019816\",\"type\":\"BasicTicker\"},{\"attributes\":{\"fill_color\":{\"value\":\"#1f77b4\"},\"height\":{\"value\":0.8},\"line_color\":{\"value\":\"#1f77b4\"},\"right\":{\"field\":\"importance\"},\"y\":{\"field\":\"variable\"}},\"id\":\"be3263e8-271f-460c-9a5f-bd61bd9a0b83\",\"type\":\"HBar\"},{\"attributes\":{},\"id\":\"73dbe8d0-2745-4fe2-b421-a4a6fae87fe0\",\"type\":\"CategoricalTicker\"},{\"attributes\":{\"plot\":{\"id\":\"68391ba4-b784-4974-809c-be99c768cd34\",\"subtype\":\"Figure\",\"type\":\"Plot\"},\"ticker\":{\"id\":\"a2819cee-342d-4a5b-b0c4-3f8213019816\",\"type\":\"BasicTicker\"}},\"id\":\"c12706e2-a243-40f3-ad91-228432386b09\",\"type\":\"Grid\"},{\"attributes\":{\"plot\":{\"id\":\"68391ba4-b784-4974-809c-be99c768cd34\",\"subtype\":\"Figure\",\"type\":\"Plot\"}},\"id\":\"7f930d39-afe8-4436-a09e-bdf5261acd88\",\"type\":\"HelpTool\"},{\"attributes\":{\"callback\":null,\"column_names\":[\"Unnamed: 0\",\"importance\",\"variable\",\"index\"],\"data\":{\"Unnamed: 0\":[9,8,7,6,5,4,3,2,1,0],\"importance\":[0.03029293253783518,0.031560209860859965,0.034468979543199475,0.03761771287670671,0.0450834610444141,0.04821488851353586,0.0801116335080777,0.08613414757102973,0.10706420571982424,0.15509846723784818],\"index\":[9,8,7,6,5,4,3,2,1,0],\"variable\":[\"nhood_42\",\"zone_R1\",\"secondaryNum311\",\"nhood_36\",\"zone_R2\",\"nhood_31\",\"secondaryNumCrimes\",\"secondaryNumViolations\",\"state_owned\",\"numViolations\"]}},\"id\":\"90bb0247-7c82-4ae2-bfcc-48ee76908d71\",\"type\":\"ColumnDataSource\"},{\"attributes\":{\"callback\":null,\"factors\":[\"nhood_42\",\"zone_R1\",\"secondaryNum311\",\"nhood_36\",\"zone_R2\",\"nhood_31\",\"secondaryNumCrimes\",\"secondaryNumViolations\",\"state_owned\",\"numViolations\"]},\"id\":\"6624edea-6547-4568-8fab-39f3a2d9d9db\",\"type\":\"FactorRange\"},{\"attributes\":{\"active_drag\":\"auto\",\"active_scroll\":\"auto\",\"active_tap\":\"auto\",\"tools\":[{\"id\":\"b3f79b24-b47f-4b95-9926-cdd8d26e4828\",\"type\":\"PanTool\"},{\"id\":\"84ffa61d-0807-4a7d-aa6e-d4a3f0726276\",\"type\":\"WheelZoomTool\"},{\"id\":\"5c92a934-572c-4295-839b-82fdfb2ab5b0\",\"type\":\"BoxZoomTool\"},{\"id\":\"995da826-2745-41a6-8703-bb2ef82df425\",\"type\":\"SaveTool\"},{\"id\":\"d63cec15-b627-4937-b310-80f8619f59ef\",\"type\":\"ResetTool\"},{\"id\":\"7f930d39-afe8-4436-a09e-bdf5261acd88\",\"type\":\"HelpTool\"}]},\"id\":\"0e57bca1-972c-4007-bc46-af8c6190c1c5\",\"type\":\"Toolbar\"},{\"attributes\":{},\"id\":\"515f18cb-a612-4501-89dc-387516fca9f2\",\"type\":\"BasicTickFormatter\"},{\"attributes\":{\"plot\":{\"id\":\"68391ba4-b784-4974-809c-be99c768cd34\",\"subtype\":\"Figure\",\"type\":\"Plot\"}},\"id\":\"d63cec15-b627-4937-b310-80f8619f59ef\",\"type\":\"ResetTool\"}],\"root_ids\":[\"68391ba4-b784-4974-809c-be99c768cd34\"]},\"title\":\"Bokeh Application\",\"version\":\"0.12.4\"}};\n",
       "            var render_items = [{\"docid\":\"02f0dd7b-a8b2-4c5b-8012-5ecbdcb06201\",\"elementid\":\"2262ccb5-8fd5-4dd9-9b83-dd9e961c620c\",\"modelid\":\"68391ba4-b784-4974-809c-be99c768cd34\"}];\n",
       "            \n",
       "            Bokeh.embed.embed_items(docs_json, render_items);\n",
       "          };\n",
       "          if (document.readyState != \"loading\") fn();\n",
       "          else document.addEventListener(\"DOMContentLoaded\", fn);\n",
       "        })();\n",
       "\n",
       "      },\n",
       "      function(Bokeh) {\n",
       "      }\n",
       "    ];\n",
       "\n",
       "    function run_inline_js() {\n",
       "      \n",
       "      if ((window.Bokeh !== undefined) || (force === true)) {\n",
       "        for (var i = 0; i < inline_js.length; i++) {\n",
       "          inline_js[i](window.Bokeh);\n",
       "        }if (force === true) {\n",
       "          display_loaded();\n",
       "        }} else if (Date.now() < window._bokeh_timeout) {\n",
       "        setTimeout(run_inline_js, 100);\n",
       "      } else if (!window._bokeh_failed_load) {\n",
       "        console.log(\"Bokeh: BokehJS failed to load within specified timeout.\");\n",
       "        window._bokeh_failed_load = true;\n",
       "      } else if (force !== true) {\n",
       "        var cell = $(document.getElementById(\"2262ccb5-8fd5-4dd9-9b83-dd9e961c620c\")).parents('.cell').data().cell;\n",
       "        cell.output_area.append_execute_result(NB_LOAD_WARNING)\n",
       "      }\n",
       "\n",
       "    }\n",
       "\n",
       "    if (window._bokeh_is_loading === 0) {\n",
       "      console.log(\"Bokeh: BokehJS loaded, going straight to plotting\");\n",
       "      run_inline_js();\n",
       "    } else {\n",
       "      load_libs(js_urls, function() {\n",
       "        console.log(\"Bokeh: BokehJS plotting callback run at\", now());\n",
       "        run_inline_js();\n",
       "      });\n",
       "    }\n",
       "  }(this));\n",
       "</script>"
      ]
     },
     "metadata": {},
     "output_type": "display_data"
    }
   ],
   "source": [
    "from bokeh.plotting import figure \n",
    "from bokeh.io import output_notebook, show\n",
    "\n",
    "df = pd.read_csv(\"data/FeatureImportances.csv\").sort_values(by=[\"importance\"], ascending=False).head(10)\n",
    "output_notebook()\n",
    "\n",
    "df = df.sort_values(by=[\"importance\"], ascending=True)\n",
    "p = figure(title=\"Importance of different variables for evaluating random forest classifier\", y_range=list(df[\"variable\"]))\n",
    "p.hbar(height=0.8, y='variable', right=\"importance\", left=0, source=df)\n",
    "# p.xaxis.formatter = timeFormatter\n",
    "p.xaxis.axis_label = \"Importance of variable\"\n",
    "show(p)"
   ]
  },
  {
   "cell_type": "markdown",
   "metadata": {},
   "source": [
    "## Results\n",
    "\n",
    "With the fitted model we then classify all the parcels in the entire corpus (~380000 parcels). We then group by the area and show the proportion of classified as blighted parcels per area. This is displayed below to show us danger areas where our model predicts blight is likely to spread or occur.\n"
   ]
  },
  {
   "cell_type": "code",
   "execution_count": 8,
   "metadata": {
    "collapsed": false
   },
   "outputs": [],
   "source": [
    "blightPredictionMap = folium.Map([42.379858, -83.066083], zoom_start = 11)\n",
    "AddLayer(\"data/Nhood_BlightProb.csv\", \"Blight Prediction Probability Per Area\", \"Proportion of predicted blighted parcels\", True, blightPredictionMap, \"prob\")\n",
    "AddAreasOverlay(blightPredictionMap)\n",
    "\n",
    "blightPredictionMap.save(\"data/BlightPredictionMap.html\")"
   ]
  },
  {
   "cell_type": "code",
   "execution_count": 9,
   "metadata": {
    "collapsed": false
   },
   "outputs": [
    {
     "data": {
      "text/html": [
       "<iframe src=\"data/BlightPredictionMap.html\" width=100% height=600></iframe>"
      ],
      "text/plain": [
       "<IPython.core.display.HTML object>"
      ]
     },
     "metadata": {},
     "output_type": "display_data"
    }
   ],
   "source": [
    "%%HTML\n",
    "<iframe src=\"data/BlightPredictionMap.html\" width=100% height=600></iframe>"
   ]
  },
  {
   "cell_type": "markdown",
   "metadata": {},
   "source": [
    "From the map above we can see the Springwell and Mapleridge are high danger areas. There also some very small areas with very high proportions of blighted parcels surrounded by low proportions (such as Brewster Homes and Penrose) which perhaps may be a fault of the model rather than the reality.\n",
    "\n",
    "Below is the top 10 danger areas."
   ]
  },
  {
   "cell_type": "code",
   "execution_count": 10,
   "metadata": {
    "collapsed": false
   },
   "outputs": [
    {
     "name": "stdout",
     "output_type": "stream",
     "text": [
      "     Unnamed: 0  _id      prob           area_name\n",
      "199         199   90  1.000000      Brewster Homes\n",
      "14           14  110  0.941776             Penrose\n",
      "147         147   42  0.925990         Springwells\n",
      "135         135   31  0.815117     Oakwood Heights\n",
      "105         105  193  0.781668            Franklin\n",
      "71           71  162  0.763463          Mapleridge\n",
      "192         192   84  0.675910          Henry Ford\n",
      "123         123  209  0.663640           Fox Creek\n",
      "193         193   85  0.635659  West Virginia Park\n",
      "112         112    2  0.579321       Chandler Park\n"
     ]
    }
   ],
   "source": [
    "df = pd.read_csv(\"data/Nhood_BlightProb.csv\")\n",
    "df = df.sort_values(by=['prob'], ascending=False)\n",
    "print(df.head(10))"
   ]
  },
  {
   "cell_type": "markdown",
   "metadata": {},
   "source": [
    "Although seeing area-wide predictions can help us see which areas are in danger of blight spread, for larger areas it may be useful to drill down and see the individual parcels which are predicted to be blighted. This may allow for intervention on a street or house level if a trend can be visually seen. Below is shown the predicted blighted parcels for a single area with high proportion of predicted demolished buildings."
   ]
  },
  {
   "cell_type": "code",
   "execution_count": 11,
   "metadata": {
    "collapsed": false
   },
   "outputs": [
    {
     "name": "stdout",
     "output_type": "stream",
     "text": [
      "Area - Elijah McCoy\n"
     ]
    }
   ],
   "source": [
    "nhoodID = 146\n",
    "\n",
    "df = pd.read_csv(\"data/AllPredictions.csv\")\n",
    "df = df.loc[((df['nhood_id']==nhoodID) & (df[\"ProbT\"]==1)), ['nhood_id','lat','lon','area_name']]\n",
    "predictHM = folium.Map([42.379858, -83.066083], zoom_start = 11)\n",
    "\n",
    "heat_data = [[row['lat'],row['lon']] for index, row in df.iterrows()]\n",
    "HeatMap(heat_data, radius=9, max_zoom=15).add_to(predictHM)\n",
    "\n",
    "subset = df[['lat', 'lon']]\n",
    "tuples = [tuple(x) for x in subset.values]\n",
    "\n",
    "folium.map.FitBounds(tuples).add_to(predictHM)\n",
    "AddAreasOverlay(predictHM)\n",
    "print(\"Area - \" + df.iloc[0][\"area_name\"])\n",
    "\n",
    "predictHM.save(\"data/PredictionSingleArea.html\")"
   ]
  },
  {
   "cell_type": "code",
   "execution_count": 12,
   "metadata": {
    "collapsed": false
   },
   "outputs": [
    {
     "data": {
      "text/html": [
       "<iframe src=\"data/PredictionSingleArea.html\" width=100% height=600></iframe>"
      ],
      "text/plain": [
       "<IPython.core.display.HTML object>"
      ]
     },
     "metadata": {},
     "output_type": "display_data"
    }
   ],
   "source": [
    "%%HTML\n",
    "<iframe src=\"data/PredictionSingleArea.html\" width=100% height=600></iframe>"
   ]
  },
  {
   "cell_type": "markdown",
   "metadata": {},
   "source": [
    "## Conclusion\n",
    "\n",
    "Using the open datasets for blight violations, crime incidents, 311 calls, demolition orders as well as parcel and area information for the city of Detroit we were able to create a model with reasonable ~80% accuracy for blight prediction and provide helpful visualisations which will allow us to see problem areas and drill down to see potential streets etc.. where blight is likely to occur.\n",
    "\n",
    "### Future work and improvements\n",
    "\n",
    "This current work does not consider any time scales and considers all violations etc at the same time. This is not realistic as areas change over the years and this should be considered. Additionally this would allow us to consider the spread of blight throughout the city.\n",
    "\n",
    "Additionally the prediction accuracy of our model ~80% is not as high as it could be due I think due to the dirtiness of our data and in particular the definition of being blighted. I think that perhaps looking at individual parcels might also be too fine a granularity in being able to get sufficient records for each address. Also the results may be misleading in being able to predict individual addresses accurately. There might also be considerations for privacy with considering individual addresses.\n",
    "\n",
    "Further more there may be some invalid parcels which are marked as \"Demolished/Dismantled\" which would not necessarily mean blighted as some may be dismantle due to normal development where houses are taken down for commercial development. This ambiguity in the category that we are trying to predict and train our model may cause some inaccuracy. There is potential to improve this by having a secondary source to verify such as satellite imagery, visiting the locations physically or some additional data from the Detroit government. \n",
    "\n",
    "With this framework we can extend the model to be able to handle additional datasets which could better help us predict. From the literature it suggests demographics and tax arrears to be considered. \n"
   ]
  }
 ],
 "metadata": {
  "kernelspec": {
   "display_name": "Python 3",
   "language": "python",
   "name": "python3"
  },
  "language_info": {
   "codemirror_mode": {
    "name": "ipython",
    "version": 3
   },
   "file_extension": ".py",
   "mimetype": "text/x-python",
   "name": "python",
   "nbconvert_exporter": "python",
   "pygments_lexer": "ipython3",
   "version": "3.4.5"
  }
 },
 "nbformat": 4,
 "nbformat_minor": 2
}
