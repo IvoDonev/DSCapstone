{
 "cells": [
  {
   "cell_type": "code",
   "execution_count": 1,
   "metadata": {
    "collapsed": false
   },
   "outputs": [],
   "source": [
    "import geopandas as gpd\n",
    "import folium\n",
    "from folium.plugins import MarkerCluster\n",
    "import pandas as pd\n",
    "\n",
    "df = pd.read_csv(\"data/DemolitionPerArea.csv\")\n",
    "df['_id'] = df['_id'].astype(str)\n",
    "\n",
    "dfBlighted = pd.read_csv(\"data/DemolishedParcels.csv\")\n",
    "\n",
    "crime_map = folium.Map([42.379858, -83.066083], zoom_start = 11)\n",
    "\n",
    "folium.Choropleth(geo_data='data/Detroit Neighborhoods.geojson', \n",
    "                  data=df,\n",
    "                  columns=['_id', 'count'],\n",
    "                  key_on='feature.properties.target_fid', \n",
    "                  nan_fill_color='White',\n",
    "                  fill_color='YlOrRd', \n",
    "                  fill_opacity=0.7,\n",
    "                  line_opacity=0.2,\n",
    "                  highlight=True,\n",
    "                  legend_name=\"Number of dismatle permits\").add_to(crime_map)\n",
    "\n",
    "mc = MarkerCluster()\n",
    "\n",
    "for row in dfBlighted.itertuples():\n",
    "    mc.add_child(folium.Marker(location=[row.lat, row.lon], popup=str(row.address)))\n",
    "    \n",
    "crime_map.add_child(mc)\n",
    "\n",
    "\n",
    "crime_map.save('data/DemolitionMap.html')\n"
   ]
  },
  {
   "cell_type": "code",
   "execution_count": 2,
   "metadata": {
    "collapsed": false
   },
   "outputs": [
    {
     "data": {
      "text/html": [
       "<iframe src=\"data/DemolitionMap.html\" width=900 height=550></iframe>"
      ],
      "text/plain": [
       "<IPython.core.display.HTML object>"
      ]
     },
     "execution_count": 2,
     "metadata": {},
     "output_type": "execute_result"
    }
   ],
   "source": [
    "from IPython.display import HTML\n",
    "HTML('<iframe src=\"data/DemolitionMap.html\" width=900 height=550></iframe>')"
   ]
  },
  {
   "cell_type": "code",
   "execution_count": null,
   "metadata": {
    "collapsed": true
   },
   "outputs": [],
   "source": []
  }
 ],
 "metadata": {
  "kernelspec": {
   "display_name": "Python 3",
   "language": "python",
   "name": "python3"
  },
  "language_info": {
   "codemirror_mode": {
    "name": "ipython",
    "version": 3
   },
   "file_extension": ".py",
   "mimetype": "text/x-python",
   "name": "python",
   "nbconvert_exporter": "python",
   "pygments_lexer": "ipython3",
   "version": "3.4.5"
  }
 },
 "nbformat": 4,
 "nbformat_minor": 2
}
